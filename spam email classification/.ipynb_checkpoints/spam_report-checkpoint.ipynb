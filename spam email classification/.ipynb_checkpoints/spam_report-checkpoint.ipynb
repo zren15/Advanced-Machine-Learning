{
 "cells": [
  {
   "cell_type": "markdown",
   "metadata": {
    "nbgrader": {
     "grade": false,
     "grade_id": "cell-cfc24d80c2cf2c24",
     "locked": true,
     "schema_version": 1,
     "solution": false
    }
   },
   "source": [
    "# Adaboost\n",
    "\n",
    "Boosting is an ensemble modeling technique that improves the prediction power by converting a number of weak learners to strong learners. The principle behind boosting algorithms is we first built a model on the training dataset, then a second model is built to rectify the errors present in the first model. This procedure is continued until and unless the errors are minimized, and the dataset is predicted correctly. Bascially, it combines multiple models (weak learners) to reach the final output (strong learners).\n",
    "\n",
    "Adaboost(Adaptive Boosting) is one of the boosting algorithms. What Adaboost does is that it builds a model and gives equal weights to all the data points. It then assigns **higher weights** to points that are **wrongly** classified. Now all the points which have higher weights are given more importance in the next model. It will keep training models until a lower error is received.\n",
    "\n",
    "<img src=\"adaboost.png\" width=\"450\"> \n",
    "\n",
    "In this notebook, I implement AdaBoost from scratch and apply it to a spam dataset. I will be classifying data into spam and not spam. \n",
    "\n",
    "Here is how to train a decision tree classifier with weights.\n",
    "\n",
    "`\n",
    "h = DecisionTreeClassifier(max_depth=max_depth, random_state=0)\n",
    "h.fit(X, Y, sample_weight=w)\n",
    "`"
   ]
  },
  {
   "cell_type": "code",
   "execution_count": 2,
   "metadata": {
    "nbgrader": {
     "grade": false,
     "grade_id": "cell-3478d607a536190b",
     "locked": true,
     "schema_version": 1,
     "solution": false
    }
   },
   "outputs": [],
   "source": [
    "import numpy as np\n",
    "from sklearn.tree import DecisionTreeClassifier\n",
    "from pathlib import Path\n",
    "from adaboost_code import *\n",
    "import matplotlib.pyplot as plt\n",
    "\n",
    "from sklearn.tree import DecisionTreeRegressor\n",
    "from sklearn.metrics import r2_score\n",
    "from sklearn.model_selection import train_test_split\n",
    "import warnings\n",
    "warnings.filterwarnings(\"ignore\")"
   ]
  },
  {
   "cell_type": "code",
   "execution_count": 3,
   "metadata": {},
   "outputs": [],
   "source": [
    "def accuracy(y, pred):\n",
    "    return np.sum(y == pred) / float(len(y))\n",
    "\n",
    "def parse_spambase_data(filename):\n",
    "    \"\"\" Given a filename return X and Y numpy arrays\n",
    "\n",
    "    X is of size number of rows x num_features\n",
    "    Y is an array of size the number of rows\n",
    "    Y is the last element of each row. (Convert 0 to -1)\n",
    "    \"\"\"\n",
    "    with open(filename,'r') as f:\n",
    "        contents = f.read().strip()\n",
    "    contents = contents.split('\\n')\n",
    "    data =[]\n",
    "    for i in range(len(contents)):\n",
    "        d = [float(n) for n in contents[i].split(',')]\n",
    "        data.append(d)\n",
    "    data = np.array(data)\n",
    "#     print(data)\n",
    "    X = data[:,:-1]\n",
    "    Y = data[:,-1]\n",
    "    Y = np.array([-1 if y==0 else y for y in Y])\n",
    "    return X, Y"
   ]
  },
  {
   "cell_type": "code",
   "execution_count": 4,
   "metadata": {},
   "outputs": [],
   "source": [
    "PATH = Path(\"data\")"
   ]
  },
  {
   "cell_type": "code",
   "execution_count": 5,
   "metadata": {
    "nbgrader": {
     "grade": true,
     "grade_id": "cell-73926460e1f70f54",
     "locked": true,
     "points": 1,
     "schema_version": 1,
     "solution": false
    }
   },
   "outputs": [
    {
     "name": "stdout",
     "output_type": "stream",
     "text": [
      "10 57\n"
     ]
    }
   ],
   "source": [
    "y_test = np.array([1., -1., 1., 1., -1., -1., 1., 1., 1., -1.])\n",
    "X, Y = parse_spambase_data(PATH/\"tiny.spam.train\")\n",
    "for i in range(len(y_test)): \n",
    "    n, m = X.shape\n",
    "print(n,m)"
   ]
  },
  {
   "cell_type": "code",
   "execution_count": 6,
   "metadata": {},
   "outputs": [],
   "source": [
    "def adaboost(X, y, num_iter, max_depth=1):\n",
    "    \"\"\"Given an numpy matrix X, a array y and num_iter return trees and weights \n",
    "   \n",
    "    Input: X, y, num_iter\n",
    "    Outputs: array of trees from DecisionTreeClassifier\n",
    "             trees_weights array of floats\n",
    "    Assumes y is {-1, 1}\n",
    "    \"\"\"\n",
    "    trees = []\n",
    "    trees_weights = [] \n",
    "    N, _ = X.shape\n",
    "    n_weight = np.ones(N) / N\n",
    "\n",
    "    for i in range(num_iter):\n",
    "        clf = DecisionTreeClassifier(max_depth=max_depth)\n",
    "        clf.fit(X,y,n_weight)\n",
    "        y_pred = clf.predict(X) \n",
    "        trees.append(clf)\n",
    "        error = np.sum(n_weight[y_pred!=y])/np.sum(n_weight)\n",
    "        weight = np.log((1-error)/error)\n",
    "        trees_weights.append(weight)\n",
    "        n_weight[y_pred!=y] = n_weight[y_pred!=y]*np.exp(weight) \n",
    "\n",
    "    return trees, trees_weights"
   ]
  },
  {
   "cell_type": "code",
   "execution_count": 7,
   "metadata": {
    "nbgrader": {
     "grade": true,
     "grade_id": "cell-4dc8edbf0e11fab8",
     "locked": true,
     "points": 1,
     "schema_version": 1,
     "solution": false
    }
   },
   "outputs": [],
   "source": [
    "X, Y = parse_spambase_data(PATH/\"tiny.spam.train\")\n",
    "trees, weights = adaboost(X, Y, 2)\n",
    "y_hat_0 = trees[0].predict(X)"
   ]
  },
  {
   "cell_type": "code",
   "execution_count": 8,
   "metadata": {},
   "outputs": [
    {
     "data": {
      "text/plain": [
       "array([ 1., -1.,  1.,  1., -1., -1., -1.,  1.,  1., -1.])"
      ]
     },
     "execution_count": 8,
     "metadata": {},
     "output_type": "execute_result"
    }
   ],
   "source": [
    "y_hat_0"
   ]
  },
  {
   "cell_type": "code",
   "execution_count": 9,
   "metadata": {},
   "outputs": [],
   "source": [
    "def adaboost_predict(X, trees, trees_weights):\n",
    "    \"\"\"Given X, trees and weights predict Y\n",
    "    \"\"\"\n",
    "    # X input, y output\n",
    "    N, _ =  X.shape\n",
    "    y = np.zeros(N)  \n",
    "    for i in range(len(trees)):\n",
    "        y += trees_weights[i]*trees[i].predict(X)\n",
    "    y = [np.sign(y[i]) for i in range(len(y))] \n",
    "    return y"
   ]
  },
  {
   "cell_type": "code",
   "execution_count": 10,
   "metadata": {
    "nbgrader": {
     "grade": true,
     "grade_id": "cell-7f28f00061f7b5a5",
     "locked": true,
     "points": 3,
     "schema_version": 1,
     "solution": false
    }
   },
   "outputs": [],
   "source": [
    "# test\n",
    "x = np.array([[0, -1], [1, 0], [-1, 0]])\n",
    "y = np.array([-1, 1, 1])\n",
    "trees, weights = adaboost(x, y, 1)\n",
    "pred = adaboost_predict(x, trees, weights)\n",
    "assert(np.array_equal(pred, y))"
   ]
  },
  {
   "cell_type": "code",
   "execution_count": 11,
   "metadata": {
    "nbgrader": {
     "grade": true,
     "grade_id": "cell-89126a5a7f8f0e1b",
     "locked": true,
     "points": 3,
     "schema_version": 1,
     "solution": false
    }
   },
   "outputs": [
    {
     "name": "stdout",
     "output_type": "stream",
     "text": [
      "Train Accuracy 0.9111\n",
      "Test Accuracy 0.9190\n"
     ]
    }
   ],
   "source": [
    "X, Y = parse_spambase_data(PATH/\"spambase.train\")\n",
    "X_test, Y_test = parse_spambase_data(PATH/\"spambase.test\")\n",
    "trees, trees_weights = adaboost(X, Y, 10)\n",
    "Yhat = adaboost_predict(X, trees, trees_weights)\n",
    "Yhat_test = adaboost_predict(X_test, trees, trees_weights)\n",
    "    \n",
    "acc_test = accuracy(Y_test, Yhat_test)\n",
    "acc_train = accuracy(Y, Yhat)\n",
    "print(\"Train Accuracy %.4f\" % acc_train)\n",
    "print(\"Test Accuracy %.4f\" % acc_test)"
   ]
  },
  {
   "cell_type": "markdown",
   "metadata": {},
   "source": [
    "### Training with different number of trees"
   ]
  },
  {
   "cell_type": "markdown",
   "metadata": {},
   "source": [
    "Apply AdaBoost to spambase dataset using different values for the number of trees numTrees. Find the best value for numTrees: Report train and validation accuracy for the best value of numTrees. Make a plot that shows your experiment (training and validation error as a function of the number of trees)."
   ]
  },
  {
   "cell_type": "code",
   "execution_count": 12,
   "metadata": {},
   "outputs": [],
   "source": [
    "X, Y = parse_spambase_data(PATH/\"spambase.train\")\n",
    "X_test, Y_test = parse_spambase_data(PATH/\"spambase.test\")\n",
    "trees, trees_weights = adaboost(X, Y, 10000)"
   ]
  },
  {
   "cell_type": "code",
   "execution_count": 18,
   "metadata": {},
   "outputs": [],
   "source": [
    "### plot that shows the training and validation error as a function of the number of trees\n",
    "def accuracy_graph(X, Y, X_val, Y_val, trees, trees_weights, interval = 50):\n",
    "    \"\"\"Given X, trees and weights predict Y\n",
    "    \"\"\"\n",
    "    N, M =  X.shape[0],X_val.shape[0]\n",
    "    #print(N, X.shape, X_val.shape)\n",
    "    y = np.zeros(N)\n",
    "    y_val = np.zeros(M)\n",
    "    accuracy_rate_train = []\n",
    "    accuracy_rate_pred = []\n",
    "    for i in range(len(trees)):\n",
    "        y += trees_weights[i]*trees[i].predict(X)\n",
    "        y_val += trees_weights[i]*trees[i].predict(X_val)\n",
    "        if (i+1) % interval == 0 and (i+1) >= 50: # min 50 trees\n",
    "            accuracy_rate_train.append(accuracy(Y, np.sign(y)))\n",
    "            accuracy_rate_pred.append(accuracy(Y_val, np.sign(y_val)))\n",
    "    return accuracy_rate_train, accuracy_rate_pred, np.linspace(50,10000,int(9950/50)+1)"
   ]
  },
  {
   "cell_type": "code",
   "execution_count": 19,
   "metadata": {},
   "outputs": [],
   "source": [
    "accuracy_rate_trn, accuracy_rate_pred, numTrees = accuracy_graph(X, Y, X_test, Y_test, trees, trees_weights)"
   ]
  },
  {
   "cell_type": "code",
   "execution_count": 20,
   "metadata": {},
   "outputs": [
    {
     "data": {
      "image/png": "[encoded data removed]",
      "text/plain": [
       "<Figure size 1440x720 with 1 Axes>"
      ]
     },
     "metadata": {
      "needs_background": "light"
     },
     "output_type": "display_data"
    }
   ],
   "source": [
    "plt.figure(figsize=(20,10))\n",
    "\n",
    "plt.plot(numTrees, np.ones(len(accuracy_rate_trn))-accuracy_rate_trn,label='training error')\n",
    "plt.plot(numTrees, np.ones(len(accuracy_rate_trn))-accuracy_rate_pred,label='validation error')\n",
    "plt.legend(bbox_to_anchor=(1.05, 1), loc=2, borderaxespad=0.,fontsize=20)\n",
    "plt.ylabel('Error rate',fontsize=18)\n",
    "plt.xlabel('numTrees',fontsize=18)\n",
    "plt.title('AdaBoost: numTrees selection, step = 50',fontsize=25)\n",
    "\n",
    "plt.show()"
   ]
  },
  {
   "cell_type": "code",
   "execution_count": 21,
   "metadata": {},
   "outputs": [
    {
     "data": {
      "text/plain": [
       "[0.959]"
      ]
     },
     "execution_count": 21,
     "metadata": {},
     "output_type": "execute_result"
    }
   ],
   "source": [
    "best_accuracy = sorted(accuracy_rate_pred, reverse=True)[:1]\n",
    "best_accuracy"
   ]
  },
  {
   "cell_type": "code",
   "execution_count": 22,
   "metadata": {},
   "outputs": [
    {
     "name": "stdout",
     "output_type": "stream",
     "text": [
      "best numTrees: 2700\n",
      "best validation error: 0.0410\n",
      "corresponding training error: 0.0364\n"
     ]
    }
   ],
   "source": [
    "best_idx = accuracy_rate_pred.index(max(accuracy_rate_pred))\n",
    "best_numtrees = numTrees[best_idx]\n",
    "print('best numTrees:', int(best_numtrees))\n",
    "print('best validation error: %.4f' % (1-accuracy_rate_pred[best_idx]))\n",
    "print('corresponding training error: %.4f' % (1-accuracy_rate_trn[best_idx]))"
   ]
  },
  {
   "cell_type": "markdown",
   "metadata": {},
   "source": [
    "We plot the training error and validation error against the number of trees in the diagram above. By selecting different number of intervals between points, we see generally adaboost starts to overfit (training error decreases where validation error does not) after 'numTrees' is greater than 3000. In the case interval = 50, the best number of trees is 2700."
   ]
  },
  {
   "cell_type": "markdown",
   "metadata": {},
   "source": [
    "# XGBoost comparison"
   ]
  },
  {
   "cell_type": "markdown",
   "metadata": {},
   "source": [
    "Compare your results with the results of running the extreme gradient boosting package (XGBoost)"
   ]
  },
  {
   "cell_type": "code",
   "execution_count": 23,
   "metadata": {},
   "outputs": [],
   "source": [
    "import xgboost as xgb"
   ]
  },
  {
   "cell_type": "code",
   "execution_count": 24,
   "metadata": {},
   "outputs": [],
   "source": [
    "# Use (0,1) instead of (-1,+1) for prediction\n",
    "Y = Y.clip(0,1)\n",
    "Y_test = Y_test.clip(0,1)\n",
    "# Create DMatrix for XGBoost\n",
    "dtrain = xgb.DMatrix(X, label=Y)\n",
    "dtest = xgb.DMatrix(X_test, label=Y_test)"
   ]
  },
  {
   "cell_type": "code",
   "execution_count": 25,
   "metadata": {},
   "outputs": [],
   "source": [
    "params = {\n",
    "    'max_depth': 3,\n",
    "    'learning_rate': 0.1,\n",
    "    'n_jobs':-1,\n",
    "    'eval_metric':['error'],\n",
    "    'objective': 'binary:logistic',\n",
    "    }\n",
    "\n",
    "watchlist = [(dtrain,'train'),(dtest,'eval')]\n",
    "evals_result = {}"
   ]
  },
  {
   "cell_type": "code",
   "execution_count": 28,
   "metadata": {},
   "outputs": [
    {
     "name": "stdout",
     "output_type": "stream",
     "text": [
      "[0]\ttrain-error:0.10583\teval-error:0.09800\n",
      "[50]\ttrain-error:0.05694\teval-error:0.04900\n",
      "[100]\ttrain-error:0.04167\teval-error:0.04500\n",
      "[150]\ttrain-error:0.03250\teval-error:0.04100\n",
      "[200]\ttrain-error:0.02806\teval-error:0.04000\n",
      "[250]\ttrain-error:0.02306\teval-error:0.03600\n",
      "[300]\ttrain-error:0.02139\teval-error:0.04000\n",
      "[350]\ttrain-error:0.01917\teval-error:0.03800\n",
      "[400]\ttrain-error:0.01667\teval-error:0.03700\n",
      "[446]\ttrain-error:0.01528\teval-error:0.03800\n"
     ]
    }
   ],
   "source": [
    "xgb0 = xgb.train(params, dtrain, num_boost_round=2000, evals=watchlist, obj=None,\n",
    "                feval=None, maximize=False, early_stopping_rounds=200,\n",
    "                evals_result=evals_result, verbose_eval=50, xgb_model=None,\n",
    "                callbacks=None)"
   ]
  },
  {
   "cell_type": "markdown",
   "metadata": {},
   "source": [
    "The validation error is 0.036, which is better than Adaboost's best result."
   ]
  },
  {
   "cell_type": "markdown",
   "metadata": {},
   "source": [
    "# Boosting neural networks for binary classification of spam mails\n",
    "-  using PyTorch to fit the neural network model"
   ]
  },
  {
   "cell_type": "code",
   "execution_count": 30,
   "metadata": {},
   "outputs": [],
   "source": [
    "import numpy as np\n",
    "import math\n",
    "\n",
    "import torch\n",
    "import torch.nn as nn\n",
    "import torch.nn.functional as F\n",
    "from sklearn.preprocessing import StandardScaler"
   ]
  },
  {
   "cell_type": "code",
   "execution_count": 32,
   "metadata": {},
   "outputs": [],
   "source": [
    "def accuracy(y, pred):\n",
    "    return np.sum(y == pred) / float(y.shape[0]) \n",
    "\n",
    "\n",
    "def parse_spambase_data(filename):\n",
    "    \"\"\" Given a filename return X and Y numpy arrays\n",
    "\n",
    "    X is of size number of rows x num_features\n",
    "    Y is an array of size the number of rows\n",
    "    Y is the last element of each row. (Convert 0 to -1)\n",
    "    \"\"\"\n",
    "    dataset = np.loadtxt(filename, delimiter=\",\")\n",
    "    K = len(dataset[0])\n",
    "    Y = dataset[:, K - 1]\n",
    "    X = dataset[:, 0 : K - 1]\n",
    "    Y = np.array([-1. if y == 0. else 1. for y in Y])\n",
    "    return X, Y\n",
    "\n",
    "def normalize(X, X_val):\n",
    "    \"\"\" Given X, X_val compute X_scaled, X_val_scaled\n",
    "    return X_scaled, X_val_scaled\n",
    "    \"\"\"\n",
    "    scaler = StandardScaler()\n",
    "    X_scaled = scaler.fit_transform(X)\n",
    "    X_val_scaled = scaler.transform(X_val)\n",
    "\n",
    "    return X_scaled, X_val_scaled"
   ]
  },
  {
   "cell_type": "code",
   "execution_count": 33,
   "metadata": {},
   "outputs": [],
   "source": [
    "X, Y = parse_spambase_data(\"data/tiny.spam.train\")\n",
    "X_val, Y_val = parse_spambase_data(\"data/tiny.spam.test\")\n",
    "X, X_val = normalize(X, X_val)"
   ]
  },
  {
   "cell_type": "code",
   "execution_count": 34,
   "metadata": {},
   "outputs": [],
   "source": [
    "class NN(nn.Module):\n",
    "    def __init__(self, D, seed, hidden=10):\n",
    "        super(NN, self).__init__()\n",
    "        torch.manual_seed(seed) # this is for reproducibility\n",
    "        self.linear1 = nn.Linear(D, hidden)\n",
    "        self.linear2 = nn.Linear(hidden, 1)\n",
    "        self.bn1 = nn.BatchNorm1d(num_features=hidden)\n",
    "        \n",
    "    def forward(self, x):\n",
    "        x = self.linear1(x)\n",
    "        x = self.bn1(F.relu(x))\n",
    "        return self.linear2(x)\n",
    "\n",
    "\n",
    "def fitNN(model, X, r, epochs=20, lr=0.1):\n",
    "    \"\"\" Fit a regression model to the pseudo-residuals\n",
    "    \n",
    "    returns the fitted values on training data as a numpy array\n",
    "    Shape of the return should be (N,) not (N,1).\n",
    "    \"\"\"\n",
    "\n",
    "    optimizer = torch.optim.Adam(model.parameters(), lr=lr)\n",
    "    for i in range(epochs):\n",
    "        model.train()\n",
    "        X = torch.FloatTensor(X)\n",
    "        r = torch.FloatTensor(r)\n",
    "        y_hat = model(X)\n",
    "        loss = F.mse_loss(y_hat, r)\n",
    "        optimizer.zero_grad()\n",
    "        loss.backward() #compute gradient\n",
    "        optimizer.step()\n",
    "    out = y_hat.squeeze(1)\n",
    "    return out.detach().numpy()\n",
    "\n",
    "def gradient_boosting_predict(X, f0, models, nu):\n",
    "    \"\"\"Given X, models, f0 and nu predict y_hat in {-1, 1}\n",
    "    y_hat should be a numpy array with shape (N,)\n",
    "    f0 constant -- best constant for loss\n",
    "    \"\"\"\n",
    "    X = torch.FloatTensor(X)\n",
    "    fm = np.full(X.shape[0], f0)\n",
    "    for model in models:\n",
    "        model.eval()\n",
    "        pred = model(X).squeeze(1).detach().numpy()\n",
    "        fm += pred * nu\n",
    "    y_hat = np.sign(fm)\n",
    "    return y_hat \n",
    "\n",
    "def compute_pseudo_residual(y, fm):\n",
    "    \"\"\" vectorized computation of the pseudoresidual\n",
    "    \"\"\"\n",
    "    res = y / (1 + np.exp(y * fm))\n",
    "    return res\n",
    "\n",
    "def boostingNN(X, Y, num_iter, nu):\n",
    "    \"\"\"Given an numpy matrix X, a array y and num_iter return trees and weights \n",
    "   \n",
    "    Input: X, y, num_iter\n",
    "    Outputs: array of Regression models\n",
    "    Assumes y is {-1, 1}\n",
    "    \"\"\"\n",
    "    models = []\n",
    "    N, D = X.shape\n",
    "    seeds = [s+1 for s in range(num_iter)] # use this seeds to call the model\n",
    "\n",
    "    f0 = np.log(np.sum(Y==1)/np.sum(Y==-1))\n",
    "    fm = np.full(X.shape[0], f0)\n",
    "    for i in range(num_iter):\n",
    "        for seed in seeds:\n",
    "            residual = compute_pseudo_residual(Y, fm).reshape(-1,1)\n",
    "            model = NN(D, seed)\n",
    "            pred = fitNN(model, X, residual)\n",
    "            fm += pred * nu\n",
    "            models.append(model)\n",
    "\n",
    "    return f0, models"
   ]
  },
  {
   "cell_type": "code",
   "execution_count": 37,
   "metadata": {},
   "outputs": [
    {
     "name": "stdout",
     "output_type": "stream",
     "text": [
      "train accuracy: 1.0\n",
      "validation accuracy: 0.8\n"
     ]
    }
   ],
   "source": [
    "nu = .1\n",
    "f0, models = boostingNN(X, Y, num_iter=10, nu=nu)\n",
    "y_hat = gradient_boosting_predict(X, f0, models, nu=nu)\n",
    "acc_train = accuracy(Y, y_hat)\n",
    "y_hat = gradient_boosting_predict(X_val, f0, models, nu=nu)\n",
    "acc_val = accuracy(Y_val, y_hat)\n",
    "print(\"train accuracy:\",acc_train)\n",
    "print(\"validation accuracy:\",acc_val)"
   ]
  }
 ],
 "metadata": {
  "celltoolbar": "Create Assignment",
  "kernelspec": {
   "display_name": "Python 3",
   "language": "python",
   "name": "python3"
  },
  "language_info": {
   "codemirror_mode": {
    "name": "ipython",
    "version": 3
   },
   "file_extension": ".py",
   "mimetype": "text/x-python",
   "name": "python",
   "nbconvert_exporter": "python",
   "pygments_lexer": "ipython3",
   "version": "3.7.6"
  },
  "toc": {
   "base_numbering": 1,
   "nav_menu": {},
   "number_sections": true,
   "sideBar": true,
   "skip_h1_title": false,
   "title_cell": "Table of Contents",
   "title_sidebar": "Contents",
   "toc_cell": false,
   "toc_position": {},
   "toc_section_display": "block",
   "toc_window_display": false
  },
  "varInspector": {
   "cols": {
    "lenName": 16,
    "lenType": 16,
    "lenVar": 40
   },
   "kernels_config": {
    "python": {
     "delete_cmd_postfix": "",
     "delete_cmd_prefix": "del ",
     "library": "var_list.py",
     "varRefreshCmd": "print(var_dic_list())"
    },
    "r": {
     "delete_cmd_postfix": ") ",
     "delete_cmd_prefix": "rm(",
     "library": "var_list.r",
     "varRefreshCmd": "cat(var_dic_list()) "
    }
   },
   "types_to_exclude": [
    "module",
    "function",
    "builtin_function_or_method",
    "instance",
    "_Feature"
   ],
   "window_display": false
  }
 },
 "nbformat": 4,
 "nbformat_minor": 4
}
