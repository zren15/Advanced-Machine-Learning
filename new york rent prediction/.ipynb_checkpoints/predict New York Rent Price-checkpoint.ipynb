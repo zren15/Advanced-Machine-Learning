{
 "cells": [
  {
   "cell_type": "markdown",
   "metadata": {},
   "source": [
    "# Predict New York Rent Price dataset by implementing Gradient Boosting for MSE "
   ]
  },
  {
   "cell_type": "markdown",
   "metadata": {},
   "source": [
    "Gradient boosting is a machine learning technique used in regression and classification tasks. It gives a prediction model in the form of **an ensemble of weak prediction models**, which are typically decision trees. When a decision tree is the weak learner, the resulting algorithm is called **gradient-boosted trees**; it usually outperforms random forest. A gradient-boosted trees model is built in a stage-wise fashion as in other boosting methods, but it generalizes the other methods by allowing optimization of an arbitrary differentiable loss function. Here, I use MSE as the loss function."
   ]
  },
  {
   "cell_type": "markdown",
   "metadata": {},
   "source": [
    "When using gradient boosting, too few iterations leads to an under-fit model and too many iterations leads to an over-fit one. Before we make predictions, it is helpful to see how the training mean square error evolves with more boosting iterations, so we can try and fit a well calibrated model."
   ]
  },
  {
   "cell_type": "code",
   "execution_count": 3,
   "metadata": {},
   "outputs": [],
   "source": [
    "import numpy as np\n",
    "from sklearn.tree import DecisionTreeClassifier\n",
    "from pathlib import Path\n",
    "from gradient_boosting_mse_code import *\n",
    "import pandas as pd \n",
    "import matplotlib.pyplot as plt\n",
    "from sklearn.tree import DecisionTreeRegressor\n",
    "from sklearn.metrics import r2_score\n",
    "from sklearn.model_selection import train_test_split\n",
    "import warnings\n",
    "warnings.filterwarnings(\"ignore\")"
   ]
  },
  {
   "cell_type": "markdown",
   "metadata": {},
   "source": [
    "### Write a program from scratch implementing gradient boosting with MSE."
   ]
  },
  {
   "cell_type": "markdown",
   "metadata": {},
   "source": [
    "<img src=\"Gradient_Boosting_MSE.png\" width=\"550\">"
   ]
  },
  {
   "cell_type": "code",
   "execution_count": 4,
   "metadata": {},
   "outputs": [],
   "source": [
    "def load_dataset(path=\"data/rent-ideal.csv\"):\n",
    "    dataset = np.loadtxt(path, delimiter=\",\", skiprows=1)\n",
    "    y = dataset[:, -1]\n",
    "    X = dataset[:, 0:- 1]\n",
    "    return X, y\n",
    "\n",
    "def gradient_boosting_mse(X, y, num_iter, max_depth=1, nu=0.1):\n",
    "    \"\"\"Given X, a array y and num_iter return y_mean and trees \n",
    "   \n",
    "    Input: X, y, num_iter\n",
    "           max_depth\n",
    "           nu (is the shinkage)\n",
    "    Outputs:y_mean, array of trees from DecisionTreeRegression\n",
    "    \"\"\"\n",
    "    trees = []\n",
    "    N, _ = X.shape\n",
    "    y_mean = np.mean(y)\n",
    "    fm = y_mean\n",
    "    y_pred = np.ones(len(X))*fm\n",
    "    for i in range(num_iter):\n",
    "        res = y - y_pred\n",
    "        clf = DecisionTreeRegressor(max_depth=max_depth)\n",
    "        clf.fit(X,res)\n",
    "        y_pred += nu * clf.predict(X)\n",
    "        trees.append(clf)\n",
    "    return y_mean, trees  \n",
    "\n",
    "def gradient_boosting_predict(X, trees, y_mean, nu=0.1):\n",
    "    \"\"\"Given X, trees, y_mean predict y_hat\n",
    "    \"\"\"\n",
    "    y_pred = np.ones(len(X))*y_mean\n",
    "    for tree in trees:\n",
    "        y_pred += nu * tree.predict(X)\n",
    "    return y_pred\n"
   ]
  },
  {
   "cell_type": "markdown",
   "metadata": {},
   "source": [
    "### Task1"
   ]
  },
  {
   "cell_type": "markdown",
   "metadata": {},
   "source": [
    "Fix the Shrinkage to 0.1. Apply gradient boosting to New York rent price dataset using different values for the number of trees numTrees. And find the best value for numTrees. Report train and validation R2 for the best value of numTrees. Make a plot that shows the experiment (training and validation metric as a function of the number of trees). Try as least 2000 trees."
   ]
  },
  {
   "cell_type": "code",
   "execution_count": 5,
   "metadata": {
    "ExecuteTime": {
     "end_time": "2022-02-16T06:05:38.426090Z",
     "start_time": "2022-02-16T06:05:37.936769Z"
    }
   },
   "outputs": [],
   "source": [
    "X, y = load_dataset(path='data/rent-ideal.csv')\n",
    "X_train, X_val, y_train, y_val = train_test_split(X, y, test_size=0.33, random_state=3)"
   ]
  },
  {
   "cell_type": "code",
   "execution_count": 6,
   "metadata": {
    "ExecuteTime": {
     "end_time": "2022-02-16T06:05:42.715144Z",
     "start_time": "2022-02-16T06:05:42.709481Z"
    }
   },
   "outputs": [
    {
     "data": {
      "text/plain": [
       "array([ 100,  200,  300,  400,  500,  600,  700,  800,  900, 1000, 1100,\n",
       "       1200, 1300, 1400, 1500, 1600, 1700, 1800, 1900, 2000, 2100, 2200,\n",
       "       2300, 2400, 2500, 2600, 2700, 2800, 2900, 3000])"
      ]
     },
     "execution_count": 6,
     "metadata": {},
     "output_type": "execute_result"
    }
   ],
   "source": [
    "numTrees = np.arange(100,3050,100)\n",
    "numTrees"
   ]
  },
  {
   "cell_type": "code",
   "execution_count": 8,
   "metadata": {
    "ExecuteTime": {
     "end_time": "2022-02-16T07:17:24.752873Z",
     "start_time": "2022-02-16T06:44:37.588670Z"
    }
   },
   "outputs": [],
   "source": [
    "results = []\n",
    "for tree in numTrees:\n",
    "    y_mean, trees = gradient_boosting_mse(X_train, y_train, tree, max_depth=7,nu=0.1)\n",
    "    y_hat_train = gradient_boosting_predict(X_train, trees, y_mean, nu=0.1)\n",
    "    y_hat = gradient_boosting_predict(X_val, trees, y_mean, nu=0.1) \n",
    "    results.append([tree,r2_score(y_train, y_hat_train), r2_score(y_val, y_hat)])"
   ]
  },
  {
   "cell_type": "code",
   "execution_count": 83,
   "metadata": {
    "ExecuteTime": {
     "end_time": "2022-02-16T07:17:29.820168Z",
     "start_time": "2022-02-16T07:17:29.816610Z"
    }
   },
   "outputs": [],
   "source": [
    "df = pd.DataFrame(results, columns = ['numTree','r_square(train)','r_square(valid)'])"
   ]
  },
  {
   "cell_type": "code",
   "execution_count": 84,
   "metadata": {
    "ExecuteTime": {
     "end_time": "2022-02-16T07:17:32.333422Z",
     "start_time": "2022-02-16T07:17:32.322894Z"
    }
   },
   "outputs": [
    {
     "data": {
      "text/html": [
       "<div>\n",
       "<style scoped>\n",
       "    .dataframe tbody tr th:only-of-type {\n",
       "        vertical-align: middle;\n",
       "    }\n",
       "\n",
       "    .dataframe tbody tr th {\n",
       "        vertical-align: top;\n",
       "    }\n",
       "\n",
       "    .dataframe thead th {\n",
       "        text-align: right;\n",
       "    }\n",
       "</style>\n",
       "<table border=\"1\" class=\"dataframe\">\n",
       "  <thead>\n",
       "    <tr style=\"text-align: right;\">\n",
       "      <th></th>\n",
       "      <th>numTree</th>\n",
       "      <th>r_square(train)</th>\n",
       "      <th>r_square(valid)</th>\n",
       "    </tr>\n",
       "  </thead>\n",
       "  <tbody>\n",
       "    <tr>\n",
       "      <th>0</th>\n",
       "      <td>100</td>\n",
       "      <td>0.840137</td>\n",
       "      <td>0.800132</td>\n",
       "    </tr>\n",
       "    <tr>\n",
       "      <th>1</th>\n",
       "      <td>200</td>\n",
       "      <td>0.878787</td>\n",
       "      <td>0.826949</td>\n",
       "    </tr>\n",
       "    <tr>\n",
       "      <th>2</th>\n",
       "      <td>300</td>\n",
       "      <td>0.899262</td>\n",
       "      <td>0.839892</td>\n",
       "    </tr>\n",
       "    <tr>\n",
       "      <th>3</th>\n",
       "      <td>400</td>\n",
       "      <td>0.911166</td>\n",
       "      <td>0.846238</td>\n",
       "    </tr>\n",
       "    <tr>\n",
       "      <th>4</th>\n",
       "      <td>500</td>\n",
       "      <td>0.921050</td>\n",
       "      <td>0.850707</td>\n",
       "    </tr>\n",
       "    <tr>\n",
       "      <th>5</th>\n",
       "      <td>600</td>\n",
       "      <td>0.928792</td>\n",
       "      <td>0.854662</td>\n",
       "    </tr>\n",
       "    <tr>\n",
       "      <th>6</th>\n",
       "      <td>700</td>\n",
       "      <td>0.933990</td>\n",
       "      <td>0.856851</td>\n",
       "    </tr>\n",
       "    <tr>\n",
       "      <th>7</th>\n",
       "      <td>800</td>\n",
       "      <td>0.938413</td>\n",
       "      <td>0.858853</td>\n",
       "    </tr>\n",
       "    <tr>\n",
       "      <th>8</th>\n",
       "      <td>900</td>\n",
       "      <td>0.941411</td>\n",
       "      <td>0.859761</td>\n",
       "    </tr>\n",
       "    <tr>\n",
       "      <th>9</th>\n",
       "      <td>1000</td>\n",
       "      <td>0.943810</td>\n",
       "      <td>0.859727</td>\n",
       "    </tr>\n",
       "    <tr>\n",
       "      <th>10</th>\n",
       "      <td>1100</td>\n",
       "      <td>0.945873</td>\n",
       "      <td>0.860373</td>\n",
       "    </tr>\n",
       "    <tr>\n",
       "      <th>11</th>\n",
       "      <td>1200</td>\n",
       "      <td>0.947829</td>\n",
       "      <td>0.860386</td>\n",
       "    </tr>\n",
       "    <tr>\n",
       "      <th>12</th>\n",
       "      <td>1300</td>\n",
       "      <td>0.949144</td>\n",
       "      <td>0.860836</td>\n",
       "    </tr>\n",
       "    <tr>\n",
       "      <th>13</th>\n",
       "      <td>1400</td>\n",
       "      <td>0.950359</td>\n",
       "      <td>0.861560</td>\n",
       "    </tr>\n",
       "    <tr>\n",
       "      <th>14</th>\n",
       "      <td>1500</td>\n",
       "      <td>0.951588</td>\n",
       "      <td>0.861349</td>\n",
       "    </tr>\n",
       "    <tr>\n",
       "      <th>15</th>\n",
       "      <td>1600</td>\n",
       "      <td>0.952594</td>\n",
       "      <td>0.861918</td>\n",
       "    </tr>\n",
       "    <tr>\n",
       "      <th>16</th>\n",
       "      <td>1700</td>\n",
       "      <td>0.953409</td>\n",
       "      <td>0.861318</td>\n",
       "    </tr>\n",
       "    <tr>\n",
       "      <th>17</th>\n",
       "      <td>1800</td>\n",
       "      <td>0.954019</td>\n",
       "      <td>0.861687</td>\n",
       "    </tr>\n",
       "    <tr>\n",
       "      <th>18</th>\n",
       "      <td>1900</td>\n",
       "      <td>0.954578</td>\n",
       "      <td>0.861131</td>\n",
       "    </tr>\n",
       "    <tr>\n",
       "      <th>19</th>\n",
       "      <td>2000</td>\n",
       "      <td>0.955161</td>\n",
       "      <td>0.861527</td>\n",
       "    </tr>\n",
       "    <tr>\n",
       "      <th>20</th>\n",
       "      <td>2100</td>\n",
       "      <td>0.955522</td>\n",
       "      <td>0.861309</td>\n",
       "    </tr>\n",
       "    <tr>\n",
       "      <th>21</th>\n",
       "      <td>2200</td>\n",
       "      <td>0.955968</td>\n",
       "      <td>0.861433</td>\n",
       "    </tr>\n",
       "    <tr>\n",
       "      <th>22</th>\n",
       "      <td>2300</td>\n",
       "      <td>0.956280</td>\n",
       "      <td>0.861440</td>\n",
       "    </tr>\n",
       "    <tr>\n",
       "      <th>23</th>\n",
       "      <td>2400</td>\n",
       "      <td>0.956638</td>\n",
       "      <td>0.861619</td>\n",
       "    </tr>\n",
       "    <tr>\n",
       "      <th>24</th>\n",
       "      <td>2500</td>\n",
       "      <td>0.956931</td>\n",
       "      <td>0.861464</td>\n",
       "    </tr>\n",
       "    <tr>\n",
       "      <th>25</th>\n",
       "      <td>2600</td>\n",
       "      <td>0.957163</td>\n",
       "      <td>0.861342</td>\n",
       "    </tr>\n",
       "    <tr>\n",
       "      <th>26</th>\n",
       "      <td>2700</td>\n",
       "      <td>0.957403</td>\n",
       "      <td>0.860983</td>\n",
       "    </tr>\n",
       "    <tr>\n",
       "      <th>27</th>\n",
       "      <td>2800</td>\n",
       "      <td>0.957593</td>\n",
       "      <td>0.861082</td>\n",
       "    </tr>\n",
       "    <tr>\n",
       "      <th>28</th>\n",
       "      <td>2900</td>\n",
       "      <td>0.957759</td>\n",
       "      <td>0.860744</td>\n",
       "    </tr>\n",
       "    <tr>\n",
       "      <th>29</th>\n",
       "      <td>3000</td>\n",
       "      <td>0.957925</td>\n",
       "      <td>0.860836</td>\n",
       "    </tr>\n",
       "  </tbody>\n",
       "</table>\n",
       "</div>"
      ],
      "text/plain": [
       "    numTree  r_square(train)  r_square(valid)\n",
       "0       100         0.840137         0.800132\n",
       "1       200         0.878787         0.826949\n",
       "2       300         0.899262         0.839892\n",
       "3       400         0.911166         0.846238\n",
       "4       500         0.921050         0.850707\n",
       "5       600         0.928792         0.854662\n",
       "6       700         0.933990         0.856851\n",
       "7       800         0.938413         0.858853\n",
       "8       900         0.941411         0.859761\n",
       "9      1000         0.943810         0.859727\n",
       "10     1100         0.945873         0.860373\n",
       "11     1200         0.947829         0.860386\n",
       "12     1300         0.949144         0.860836\n",
       "13     1400         0.950359         0.861560\n",
       "14     1500         0.951588         0.861349\n",
       "15     1600         0.952594         0.861918\n",
       "16     1700         0.953409         0.861318\n",
       "17     1800         0.954019         0.861687\n",
       "18     1900         0.954578         0.861131\n",
       "19     2000         0.955161         0.861527\n",
       "20     2100         0.955522         0.861309\n",
       "21     2200         0.955968         0.861433\n",
       "22     2300         0.956280         0.861440\n",
       "23     2400         0.956638         0.861619\n",
       "24     2500         0.956931         0.861464\n",
       "25     2600         0.957163         0.861342\n",
       "26     2700         0.957403         0.860983\n",
       "27     2800         0.957593         0.861082\n",
       "28     2900         0.957759         0.860744\n",
       "29     3000         0.957925         0.860836"
      ]
     },
     "execution_count": 84,
     "metadata": {},
     "output_type": "execute_result"
    }
   ],
   "source": [
    "df "
   ]
  },
  {
   "cell_type": "code",
   "execution_count": 97,
   "metadata": {
    "ExecuteTime": {
     "end_time": "2022-02-16T07:33:14.387659Z",
     "start_time": "2022-02-16T07:33:14.198436Z"
    }
   },
   "outputs": [
    {
     "data": {
      "image/png": "[encoded data removed]",
      "text/plain": [
       "<Figure size 432x288 with 1 Axes>"
      ]
     },
     "metadata": {
      "needs_background": "light"
     },
     "output_type": "display_data"
    }
   ],
   "source": [
    "fig, ax = plt.subplots()\n",
    "ax.plot(df['numTree'], df['r_square(train)'],label = 'r_square(train)')\n",
    "ax.plot(df['numTree'], df['r_square(valid)'],label = 'r_square(valid)')\n",
    "plt.legend()\n",
    "plt.xlabel('numTree')\n",
    "plt.show()"
   ]
  },
  {
   "cell_type": "markdown",
   "metadata": {},
   "source": [
    "- Find the best value for numTrees?\n",
    "    - As the number of numTree increases, both the train and test r-square increase. Therefore, the best value for numTrees is as big as possible.\n",
    "\n",
    "\n",
    "- Report train and validation R2 for the best value of numTrees.\n",
    "    - Train R2 for the best value of numTrees: 0.957925, Validation R2 for the best value of numTrees: 0.860836"
   ]
  },
  {
   "cell_type": "code",
   "execution_count": 5,
   "metadata": {
    "ExecuteTime": {
     "end_time": "2022-02-16T07:29:16.207643Z",
     "start_time": "2022-02-16T07:29:16.144875Z"
    }
   },
   "outputs": [],
   "source": [
    "import numpy as np\n",
    "from sklearn.tree import DecisionTreeClassifier\n",
    "from pathlib import Path\n",
    "from gradient_boosting_mse import *\n",
    "from adaboost import *\n",
    "import pandas as pd \n",
    "import matplotlib.pyplot as plt\n",
    "from sklearn.tree import DecisionTreeRegressor\n",
    "from sklearn.metrics import r2_score\n",
    "from sklearn.model_selection import train_test_split\n",
    "import warnings\n",
    "warnings.filterwarnings(\"ignore\")\n",
    "from xgboost import XGBRegressor"
   ]
  },
  {
   "cell_type": "markdown",
   "metadata": {},
   "source": [
    "### Task2"
   ]
  },
  {
   "cell_type": "markdown",
   "metadata": {},
   "source": [
    "Compare the Gradient Boosting for MSE results with the results of running the gradient boosting package (XGBoost). Explore the hyper parameters given in the package. Make plots or tables that show the result of the experiments."
   ]
  },
  {
   "cell_type": "code",
   "execution_count": 2,
   "metadata": {
    "ExecuteTime": {
     "end_time": "2022-02-16T07:26:36.683441Z",
     "start_time": "2022-02-16T07:26:36.386938Z"
    }
   },
   "outputs": [],
   "source": [
    "X, y = load_dataset(path='data/rent-ideal.csv')\n",
    "X_train, X_val, y_train, y_val = train_test_split(X, y, test_size=0.33, random_state=3)"
   ]
  },
  {
   "cell_type": "code",
   "execution_count": 3,
   "metadata": {
    "ExecuteTime": {
     "end_time": "2022-02-16T07:26:47.310364Z",
     "start_time": "2022-02-16T07:26:47.299594Z"
    }
   },
   "outputs": [
    {
     "data": {
      "text/plain": [
       "array([ 100,  200,  300,  400,  500,  600,  700,  800,  900, 1000, 1100,\n",
       "       1200, 1300, 1400, 1500, 1600, 1700, 1800, 1900, 2000, 2100, 2200,\n",
       "       2300, 2400, 2500, 2600, 2700, 2800, 2900, 3000])"
      ]
     },
     "execution_count": 3,
     "metadata": {},
     "output_type": "execute_result"
    }
   ],
   "source": [
    "numTrees = np.arange(100,3050,100)\n",
    "numTrees"
   ]
  },
  {
   "cell_type": "code",
   "execution_count": 7,
   "metadata": {
    "ExecuteTime": {
     "end_time": "2022-02-16T07:36:02.112289Z",
     "start_time": "2022-02-16T07:29:46.346849Z"
    }
   },
   "outputs": [],
   "source": [
    "results = []\n",
    "for tree in numTrees:\n",
    "    model = XGBRegressor(n_estimators = tree, max_depth = 7, learning_rate=0.1, random_state=3, nthread = -1)\n",
    "    model.fit(X_train, y_train)\n",
    "    y_hat_train = model.predict(X_train)\n",
    "    y_hat_val = model.predict(X_val)\n",
    "    results.append([tree,r2_score(y_train, y_hat_train), r2_score(y_val, y_hat_val)])"
   ]
  },
  {
   "cell_type": "code",
   "execution_count": 8,
   "metadata": {
    "ExecuteTime": {
     "end_time": "2022-02-16T07:36:02.120850Z",
     "start_time": "2022-02-16T07:36:02.113851Z"
    }
   },
   "outputs": [],
   "source": [
    "df = pd.DataFrame(results, columns = ['numTree','r_square(train)','r_square(valid)'])"
   ]
  },
  {
   "cell_type": "code",
   "execution_count": 10,
   "metadata": {
    "ExecuteTime": {
     "end_time": "2022-02-16T07:37:47.772779Z",
     "start_time": "2022-02-16T07:37:47.750111Z"
    }
   },
   "outputs": [
    {
     "data": {
      "text/html": [
       "<div>\n",
       "<style scoped>\n",
       "    .dataframe tbody tr th:only-of-type {\n",
       "        vertical-align: middle;\n",
       "    }\n",
       "\n",
       "    .dataframe tbody tr th {\n",
       "        vertical-align: top;\n",
       "    }\n",
       "\n",
       "    .dataframe thead th {\n",
       "        text-align: right;\n",
       "    }\n",
       "</style>\n",
       "<table border=\"1\" class=\"dataframe\">\n",
       "  <thead>\n",
       "    <tr style=\"text-align: right;\">\n",
       "      <th></th>\n",
       "      <th>numTree</th>\n",
       "      <th>r_square(train)</th>\n",
       "      <th>r_square(valid)</th>\n",
       "    </tr>\n",
       "  </thead>\n",
       "  <tbody>\n",
       "    <tr>\n",
       "      <th>0</th>\n",
       "      <td>100</td>\n",
       "      <td>0.832053</td>\n",
       "      <td>0.794689</td>\n",
       "    </tr>\n",
       "    <tr>\n",
       "      <th>1</th>\n",
       "      <td>200</td>\n",
       "      <td>0.867922</td>\n",
       "      <td>0.821065</td>\n",
       "    </tr>\n",
       "    <tr>\n",
       "      <th>2</th>\n",
       "      <td>300</td>\n",
       "      <td>0.888952</td>\n",
       "      <td>0.835008</td>\n",
       "    </tr>\n",
       "    <tr>\n",
       "      <th>3</th>\n",
       "      <td>400</td>\n",
       "      <td>0.902424</td>\n",
       "      <td>0.842882</td>\n",
       "    </tr>\n",
       "    <tr>\n",
       "      <th>4</th>\n",
       "      <td>500</td>\n",
       "      <td>0.912225</td>\n",
       "      <td>0.848127</td>\n",
       "    </tr>\n",
       "    <tr>\n",
       "      <th>5</th>\n",
       "      <td>600</td>\n",
       "      <td>0.919612</td>\n",
       "      <td>0.851829</td>\n",
       "    </tr>\n",
       "    <tr>\n",
       "      <th>6</th>\n",
       "      <td>700</td>\n",
       "      <td>0.925229</td>\n",
       "      <td>0.854663</td>\n",
       "    </tr>\n",
       "    <tr>\n",
       "      <th>7</th>\n",
       "      <td>800</td>\n",
       "      <td>0.929962</td>\n",
       "      <td>0.856578</td>\n",
       "    </tr>\n",
       "    <tr>\n",
       "      <th>8</th>\n",
       "      <td>900</td>\n",
       "      <td>0.933233</td>\n",
       "      <td>0.857798</td>\n",
       "    </tr>\n",
       "    <tr>\n",
       "      <th>9</th>\n",
       "      <td>1000</td>\n",
       "      <td>0.936105</td>\n",
       "      <td>0.858708</td>\n",
       "    </tr>\n",
       "    <tr>\n",
       "      <th>10</th>\n",
       "      <td>1100</td>\n",
       "      <td>0.938790</td>\n",
       "      <td>0.859517</td>\n",
       "    </tr>\n",
       "    <tr>\n",
       "      <th>11</th>\n",
       "      <td>1200</td>\n",
       "      <td>0.940848</td>\n",
       "      <td>0.860235</td>\n",
       "    </tr>\n",
       "    <tr>\n",
       "      <th>12</th>\n",
       "      <td>1300</td>\n",
       "      <td>0.942576</td>\n",
       "      <td>0.860648</td>\n",
       "    </tr>\n",
       "    <tr>\n",
       "      <th>13</th>\n",
       "      <td>1400</td>\n",
       "      <td>0.944624</td>\n",
       "      <td>0.861254</td>\n",
       "    </tr>\n",
       "    <tr>\n",
       "      <th>14</th>\n",
       "      <td>1500</td>\n",
       "      <td>0.946214</td>\n",
       "      <td>0.861824</td>\n",
       "    </tr>\n",
       "    <tr>\n",
       "      <th>15</th>\n",
       "      <td>1600</td>\n",
       "      <td>0.947481</td>\n",
       "      <td>0.862149</td>\n",
       "    </tr>\n",
       "    <tr>\n",
       "      <th>16</th>\n",
       "      <td>1700</td>\n",
       "      <td>0.948585</td>\n",
       "      <td>0.862470</td>\n",
       "    </tr>\n",
       "    <tr>\n",
       "      <th>17</th>\n",
       "      <td>1800</td>\n",
       "      <td>0.949573</td>\n",
       "      <td>0.862601</td>\n",
       "    </tr>\n",
       "    <tr>\n",
       "      <th>18</th>\n",
       "      <td>1900</td>\n",
       "      <td>0.950432</td>\n",
       "      <td>0.862708</td>\n",
       "    </tr>\n",
       "    <tr>\n",
       "      <th>19</th>\n",
       "      <td>2000</td>\n",
       "      <td>0.951225</td>\n",
       "      <td>0.862778</td>\n",
       "    </tr>\n",
       "    <tr>\n",
       "      <th>20</th>\n",
       "      <td>2100</td>\n",
       "      <td>0.951962</td>\n",
       "      <td>0.862800</td>\n",
       "    </tr>\n",
       "    <tr>\n",
       "      <th>21</th>\n",
       "      <td>2200</td>\n",
       "      <td>0.952481</td>\n",
       "      <td>0.862692</td>\n",
       "    </tr>\n",
       "    <tr>\n",
       "      <th>22</th>\n",
       "      <td>2300</td>\n",
       "      <td>0.953121</td>\n",
       "      <td>0.862621</td>\n",
       "    </tr>\n",
       "    <tr>\n",
       "      <th>23</th>\n",
       "      <td>2400</td>\n",
       "      <td>0.953694</td>\n",
       "      <td>0.862515</td>\n",
       "    </tr>\n",
       "    <tr>\n",
       "      <th>24</th>\n",
       "      <td>2500</td>\n",
       "      <td>0.954116</td>\n",
       "      <td>0.862453</td>\n",
       "    </tr>\n",
       "    <tr>\n",
       "      <th>25</th>\n",
       "      <td>2600</td>\n",
       "      <td>0.954537</td>\n",
       "      <td>0.862538</td>\n",
       "    </tr>\n",
       "    <tr>\n",
       "      <th>26</th>\n",
       "      <td>2700</td>\n",
       "      <td>0.954997</td>\n",
       "      <td>0.862388</td>\n",
       "    </tr>\n",
       "    <tr>\n",
       "      <th>27</th>\n",
       "      <td>2800</td>\n",
       "      <td>0.955310</td>\n",
       "      <td>0.862304</td>\n",
       "    </tr>\n",
       "    <tr>\n",
       "      <th>28</th>\n",
       "      <td>2900</td>\n",
       "      <td>0.955591</td>\n",
       "      <td>0.862259</td>\n",
       "    </tr>\n",
       "    <tr>\n",
       "      <th>29</th>\n",
       "      <td>3000</td>\n",
       "      <td>0.955819</td>\n",
       "      <td>0.862221</td>\n",
       "    </tr>\n",
       "  </tbody>\n",
       "</table>\n",
       "</div>"
      ],
      "text/plain": [
       "    numTree  r_square(train)  r_square(valid)\n",
       "0       100         0.832053         0.794689\n",
       "1       200         0.867922         0.821065\n",
       "2       300         0.888952         0.835008\n",
       "3       400         0.902424         0.842882\n",
       "4       500         0.912225         0.848127\n",
       "5       600         0.919612         0.851829\n",
       "6       700         0.925229         0.854663\n",
       "7       800         0.929962         0.856578\n",
       "8       900         0.933233         0.857798\n",
       "9      1000         0.936105         0.858708\n",
       "10     1100         0.938790         0.859517\n",
       "11     1200         0.940848         0.860235\n",
       "12     1300         0.942576         0.860648\n",
       "13     1400         0.944624         0.861254\n",
       "14     1500         0.946214         0.861824\n",
       "15     1600         0.947481         0.862149\n",
       "16     1700         0.948585         0.862470\n",
       "17     1800         0.949573         0.862601\n",
       "18     1900         0.950432         0.862708\n",
       "19     2000         0.951225         0.862778\n",
       "20     2100         0.951962         0.862800\n",
       "21     2200         0.952481         0.862692\n",
       "22     2300         0.953121         0.862621\n",
       "23     2400         0.953694         0.862515\n",
       "24     2500         0.954116         0.862453\n",
       "25     2600         0.954537         0.862538\n",
       "26     2700         0.954997         0.862388\n",
       "27     2800         0.955310         0.862304\n",
       "28     2900         0.955591         0.862259\n",
       "29     3000         0.955819         0.862221"
      ]
     },
     "execution_count": 10,
     "metadata": {},
     "output_type": "execute_result"
    }
   ],
   "source": [
    "df"
   ]
  },
  {
   "cell_type": "code",
   "execution_count": 11,
   "metadata": {
    "ExecuteTime": {
     "end_time": "2022-02-16T07:48:32.744253Z",
     "start_time": "2022-02-16T07:48:32.624134Z"
    }
   },
   "outputs": [
    {
     "data": {
      "image/png": "[encoded data removed]",
      "text/plain": [
       "<Figure size 432x288 with 1 Axes>"
      ]
     },
     "metadata": {
      "needs_background": "light"
     },
     "output_type": "display_data"
    }
   ],
   "source": [
    "fig, ax = plt.subplots()\n",
    "ax.plot(df['numTree'], df['r_square(train)'],label = 'r_square(train)')\n",
    "ax.plot(df['numTree'], df['r_square(valid)'],label = 'r_square(valid)')\n",
    "plt.legend()\n",
    "plt.xlabel('numTree')\n",
    "plt.show()"
   ]
  },
  {
   "cell_type": "markdown",
   "metadata": {},
   "source": [
    "Compare the result with 3.2 using gradient boost mse, both the r-square for train and validation set don't change that much. They are almost same. The best train R2 for the best value of numTrees is 0.955591 and the best validation R2 for the best value of numTrees is 0.862259, with 2900 trees. "
   ]
  }
 ],
 "metadata": {
  "kernelspec": {
   "display_name": "Python 3",
   "language": "python",
   "name": "python3"
  },
  "language_info": {
   "codemirror_mode": {
    "name": "ipython",
    "version": 3
   },
   "file_extension": ".py",
   "mimetype": "text/x-python",
   "name": "python",
   "nbconvert_exporter": "python",
   "pygments_lexer": "ipython3",
   "version": "3.7.6"
  },
  "toc": {
   "base_numbering": 1,
   "nav_menu": {},
   "number_sections": true,
   "sideBar": true,
   "skip_h1_title": false,
   "title_cell": "Table of Contents",
   "title_sidebar": "Contents",
   "toc_cell": false,
   "toc_position": {},
   "toc_section_display": true,
   "toc_window_display": false
  },
  "varInspector": {
   "cols": {
    "lenName": 16,
    "lenType": 16,
    "lenVar": 40
   },
   "kernels_config": {
    "python": {
     "delete_cmd_postfix": "",
     "delete_cmd_prefix": "del ",
     "library": "var_list.py",
     "varRefreshCmd": "print(var_dic_list())"
    },
    "r": {
     "delete_cmd_postfix": ") ",
     "delete_cmd_prefix": "rm(",
     "library": "var_list.r",
     "varRefreshCmd": "cat(var_dic_list()) "
    }
   },
   "types_to_exclude": [
    "module",
    "function",
    "builtin_function_or_method",
    "instance",
    "_Feature"
   ],
   "window_display": false
  }
 },
 "nbformat": 4,
 "nbformat_minor": 4
}
